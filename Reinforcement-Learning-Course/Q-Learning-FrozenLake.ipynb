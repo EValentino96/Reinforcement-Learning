{
 "cells": [
  {
   "cell_type": "markdown",
   "id": "6ea01e3a-31da-43b6-b54e-997ec7906edf",
   "metadata": {},
   "source": [
    "# Setting Up The Environment & Testing It"
   ]
  },
  {
   "cell_type": "code",
   "execution_count": 16,
   "id": "d7040a57-3005-4c77-b26b-6c8fb4e1c153",
   "metadata": {},
   "outputs": [],
   "source": [
    "import time\n",
    "import numpy as np\n",
    "import gymnasium as gym"
   ]
  },
  {
   "cell_type": "code",
   "execution_count": 2,
   "id": "221dea7a-0082-4d9d-9ffd-1c4fc6732876",
   "metadata": {},
   "outputs": [
    {
     "name": "stdout",
     "output_type": "stream",
     "text": [
      "Check if env was registered: True\n"
     ]
    }
   ],
   "source": [
    "from gymnasium.envs.registration import register\n",
    "from gymnasium.envs import registry\n",
    "\n",
    "register(\n",
    "    id='FrozenLakeNotSlippery-v0', # make sure this is a custom name!\n",
    "    entry_point='gymnasium.envs.toy_text.frozen_lake:FrozenLakeEnv',\n",
    "    kwargs={'map_name' : '4x4', 'is_slippery': False},\n",
    "    max_episode_steps=100, # how many steps the agent will take before just giving up\n",
    "    reward_threshold=.8196, # this is more applicable for continuous rewards\n",
    ")\n",
    "\n",
    "print(f\"Check if env was registered: {'FrozenLakeNotSlippery-v0' in registry.keys()}\")"
   ]
  },
  {
   "cell_type": "code",
   "execution_count": 19,
   "id": "d0f46191-a915-4d5a-9ddc-d856b97a4ca0",
   "metadata": {},
   "outputs": [
    {
     "name": "stdout",
     "output_type": "stream",
     "text": [
      "  (Right)\n",
      "S\u001b[41mF\u001b[0mFF\n",
      "FHFH\n",
      "FFFH\n",
      "HFFG\n",
      "\n"
     ]
    }
   ],
   "source": [
    "import matplotlib.pyplot as plt\n",
    "from IPython.display import clear_output\n",
    "\n",
    "# you can view this game multiple ways:\n",
    "# human (graphical game window)\n",
    "# rgb_array (pixel data)\n",
    "# ansi (text based)\n",
    "render_mode = \"ansi\"\n",
    "env = gym.make('FrozenLakeNotSlippery-v0', render_mode=render_mode)\n",
    "env.reset()\n",
    "\n",
    "for _ in range(10):\n",
    "\n",
    "    # render environment accordingly\n",
    "    if render_mode == \"human\":\n",
    "        env.render()\n",
    "    else:\n",
    "        img = env.render()\n",
    "        if render_mode == \"ansi\":\n",
    "            print(img)\n",
    "        else:\n",
    "            plt.imshow(img)\n",
    "            plt.axis('off')\n",
    "            plt.show()\n",
    "\n",
    "    # select a random action\n",
    "    action = env.action_space.sample()\n",
    "    \n",
    "    # go forward with this action\n",
    "    observation, reward, done, truncated, info = env.step(action)\n",
    "    \n",
    "    time.sleep(0.5)\n",
    "    clear_output(wait=True)\n",
    "\n",
    "    if done:\n",
    "        env.reset()\n",
    "\n",
    "env.close()"
   ]
  },
  {
   "cell_type": "markdown",
   "id": "8a66da5d-fa57-4ab7-9705-40e38f2ad2f9",
   "metadata": {},
   "source": [
    "# Hyperparameter Initialization"
   ]
  },
  {
   "cell_type": "code",
   "execution_count": 21,
   "id": "8da1446e-2751-49f8-85e3-0c077291ede3",
   "metadata": {},
   "outputs": [
    {
     "name": "stdout",
     "output_type": "stream",
     "text": [
      "state size = 16\n",
      "action size = 4\n"
     ]
    }
   ],
   "source": [
    "# rows -> states, cols -> actions(?)\n",
    "state_size = env.observation_space.n \n",
    "print(f'state size = {state_size}')\n",
    "action_size = env.action_space.n\n",
    "print(f'action size = {action_size}')\n",
    "q_table = np.zeros([state_size, action_size])"
   ]
  },
  {
   "cell_type": "code",
   "execution_count": null,
   "id": "9b9f4b48-5bb4-472b-96ea-4955c16e4864",
   "metadata": {},
   "outputs": [],
   "source": [
    "ALPHA\n",
    "GAMMA\n",
    "EPISODES = 20000\n",
    "# Also referred to as epochs"
   ]
  }
 ],
 "metadata": {
  "kernelspec": {
   "display_name": "Python (rl)",
   "language": "python",
   "name": "rl"
  },
  "language_info": {
   "codemirror_mode": {
    "name": "ipython",
    "version": 3
   },
   "file_extension": ".py",
   "mimetype": "text/x-python",
   "name": "python",
   "nbconvert_exporter": "python",
   "pygments_lexer": "ipython3",
   "version": "3.11.2"
  }
 },
 "nbformat": 4,
 "nbformat_minor": 5
}
