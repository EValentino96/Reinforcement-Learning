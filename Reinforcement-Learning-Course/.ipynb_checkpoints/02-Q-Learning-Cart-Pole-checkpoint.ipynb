{
 "cells": [
  {
   "cell_type": "markdown",
   "id": "75a495e0-2e21-45c7-ba5d-1367272a58ff",
   "metadata": {},
   "source": [
    "# Environment Setup"
   ]
  },
  {
   "cell_type": "code",
   "execution_count": 1,
   "id": "0487f6a0-b7b3-40be-bbc1-523208a9637d",
   "metadata": {},
   "outputs": [],
   "source": [
    "import time\n",
    "import numpy as np\n",
    "import gymnasium as gym\n",
    "import matplotlib.pyplot as plt\n",
    "from IPython.display import clear_output\n",
    "%matplotlib inline"
   ]
  },
  {
   "cell_type": "code",
   "execution_count": 2,
   "id": "523c9689-2d06-454b-a889-c46da449a949",
   "metadata": {},
   "outputs": [],
   "source": [
    "env = gym.make('CartPole-v1', render_mode='human')"
   ]
  },
  {
   "cell_type": "code",
   "execution_count": 3,
   "id": "d807b569-6614-44d3-b5b0-d5e27946ba66",
   "metadata": {},
   "outputs": [],
   "source": [
    "env.reset()\n",
    "\n",
    "for step in range(100):\n",
    "\n",
    "    env.render()\n",
    "    \n",
    "    action = env.action_space.sample()\n",
    "    observation, _, done, _, _ = env.step(action)\n",
    "\n",
    "    time.sleep(0.001)\n",
    "    \n",
    "    if done:\n",
    "        env.reset()\n",
    "        break\n",
    "\n",
    "\n",
    "\"\"\"\n",
    "    While using render_mode=\"human\" env.close() will clear everything about the environment \n",
    "    and won't let you use it for anything else.\n",
    "\"\"\"\n",
    "env.close()"
   ]
  },
  {
   "cell_type": "markdown",
   "id": "72530ae6-fc18-4f47-bc9f-5e0ffb3219af",
   "metadata": {},
   "source": [
    "# Hyperparameter Initialization"
   ]
  },
  {
   "cell_type": "code",
   "execution_count": 4,
   "id": "0c44d024-794b-4329-ab1d-72bf2e6121ad",
   "metadata": {},
   "outputs": [],
   "source": [
    "# The more bins you have, the more fine grain the search space and the more your agent can learn\n",
    "# however, the larger the q table, the more training time is needed as the search space is larger. \n",
    "def create_observation_bins(num_bins_per_observation=10):\n",
    "    bins_cart_position = np.linspace(-4.8, 4.8, num_bins_per_observation)\n",
    "    bins_cart_velocity = np.linspace(-5, 5, num_bins_per_observation)\n",
    "    bins_pole_angle = np.linspace(-0.418, 0.418, num_bins_per_observation)\n",
    "    bins_pole_angular_velocity = np.linspace(-5, 5, num_bins_per_observation)\n",
    "\n",
    "    bins = np.array([bins_cart_position, bins_cart_velocity, bins_pole_angle, bins_pole_angular_velocity])\n",
    "    \n",
    "    return bins"
   ]
  },
  {
   "cell_type": "code",
   "execution_count": 5,
   "id": "1495ed1b-8692-4c23-8909-419cb9e14489",
   "metadata": {},
   "outputs": [],
   "source": [
    "# NUM_BINS = 10\n",
    "NUM_BINS = 20 # testing to see if with 20 bins, we can get the agent to get 200 points consecutively\n",
    "BINS = create_observation_bins(NUM_BINS)"
   ]
  },
  {
   "cell_type": "code",
   "execution_count": 6,
   "id": "211ba8f2-d8a8-42cc-8075-f1e2c3a87996",
   "metadata": {},
   "outputs": [],
   "source": [
    "# Our observations for this problem (and many) are continuous, therefore creating our Q table like before\n",
    "# requires a little more work, we obviously don't want an array or matrix index for every single value, when\n",
    "# some values are very close to each other (1.1, 1.0, 0.9), we want a way to make those values discrete,\n",
    "# so that we can get a more general idea what values we're getting\n",
    "\n",
    "def discretize_observation(observations, bins):\n",
    "\n",
    "    binned_observations = []\n",
    "\n",
    "    for i, observation in enumerate(observations):\n",
    "        # observations is in [cart_position, cart_velocity, pole_angle, pole_angular_velocity]\n",
    "        # our bins were organized in the same way, thus observation[0] corresponds to bins[0]\n",
    "        discretized_observation = np.digitize(observation, bins[i])\n",
    "\n",
    "        binned_observations.append(discretized_observation)\n",
    "\n",
    "    return tuple(binned_observations)"
   ]
  },
  {
   "cell_type": "code",
   "execution_count": 7,
   "id": "30ee6415-de3f-49a0-8996-74c615267d71",
   "metadata": {},
   "outputs": [
    {
     "name": "stdout",
     "output_type": "stream",
     "text": [
      "Raw (continuous) observation: [-0.03864181  0.03529947  0.0304998  -0.00868627]\n",
      "Mapped (discrete) observation: (np.int64(10), np.int64(10), np.int64(11), np.int64(10))\n"
     ]
    }
   ],
   "source": [
    "# Let's test if our discretization function works logically\n",
    "# If we reset the env, our observation should be all the initial values, \n",
    "# which correspond to the middle of all the ranges we created with our bins (5)\n",
    "# so we should expect that our discretized observations all be 5\n",
    "env = gym.make('CartPole-v1', render_mode='rgb_array')\n",
    "observation, _ = env.reset()\n",
    "print(f'Raw (continuous) observation: {observation}')\n",
    "mapped_observation = discretize_observation(observation, BINS)\n",
    "print(f'Mapped (discrete) observation: {mapped_observation}')"
   ]
  },
  {
   "cell_type": "code",
   "execution_count": 8,
   "id": "cc5eda4a-5807-4606-8109-03128ed81b72",
   "metadata": {},
   "outputs": [
    {
     "name": "stdout",
     "output_type": "stream",
     "text": [
      "(20, 20, 20, 20, 2)\n"
     ]
    }
   ],
   "source": [
    "# Initializing our Q Table:\n",
    "# Our Q table will have one dimention per observation and the last one is for the number of actions (in this case 2)\n",
    "q_table_shape = (NUM_BINS, NUM_BINS, NUM_BINS, NUM_BINS, env.action_space.n)\n",
    "q_table = np.zeros(q_table_shape)\n",
    "print(q_table.shape)"
   ]
  },
  {
   "cell_type": "code",
   "execution_count": 9,
   "id": "68fc7f4c-f220-44bc-989f-52eda2c82c26",
   "metadata": {},
   "outputs": [],
   "source": [
    "# Also referred to as EPOCHS, \n",
    "# running for a few thousands is how many times \n",
    "# it takes the agent of playing the game to start showing results\n",
    "EPISODES = 20000 \n",
    "\n",
    "# The LEARNING RATE, too low converges too fast, too high converges too quick\n",
    "ALPHA = 0.8\n",
    "\n",
    "# The DISCOUNT RATE, applied to 'future' rewards, so that recent rewards are worth more\n",
    "GAMMA = 0.95"
   ]
  },
  {
   "cell_type": "code",
   "execution_count": 10,
   "id": "a757635a-49a1-4810-897a-11b8cfe58063",
   "metadata": {},
   "outputs": [],
   "source": [
    "# For the epsilon-greedy algorithm\n",
    "# Epsilon will start at the max value and will decrease to no less than the min value\n",
    "# based on a function that we choose (in this case exponential decay)\n",
    "# and we also state the rate of decay\n",
    "epsilon = 1.0\n",
    "BURN_IN = 1\n",
    "EPSILON_END = 10000\n",
    "EPSILON_REDUCE = 0.0001"
   ]
  },
  {
   "cell_type": "markdown",
   "id": "c6dd90f4-c710-44a0-98ef-a0d2d37bb0ee",
   "metadata": {},
   "source": [
    "# Update Functions"
   ]
  },
  {
   "cell_type": "code",
   "execution_count": 11,
   "id": "3b5045c3-1a0b-4273-b4da-91b575cbbe4c",
   "metadata": {},
   "outputs": [],
   "source": [
    "def epsilon_greedy_action_selection(epsilon, q_table, discrete_state):\n",
    "    \"\"\"\n",
    "        Explaining Epsilon-Greedy Logic: \n",
    "        Since epsilon starts at 1.0, and our random number generator doesn't include 1.0 and\n",
    "        we're using an exponential decay function for our epsilon, for the beginning we will \n",
    "        be mostly exploring a lot (AKA choosing the random action). However, as epsilon gets\n",
    "        smaller over time, we will be exploiting what we've learned more and more, and exploring\n",
    "        only very little.\n",
    "    \"\"\"\n",
    "\n",
    "    random_number = np.random.random()\n",
    "\n",
    "    # EXPLOITATION (choose the action that maximizes Q)\n",
    "    if random_number > epsilon:\n",
    "\n",
    "        # For the given (discrete) state, grab that state,\n",
    "        # minor change from the previous example \n",
    "        # where we wanted the whole row, and we still\n",
    "        # grab the index of the highest value\n",
    "        action = np.argmax(q_table[discrete_state])\n",
    "        \n",
    "    # EXPLORATION (choose a random action)\n",
    "    else:\n",
    "        action = env.action_space.sample()\n",
    "\n",
    "    return action"
   ]
  },
  {
   "cell_type": "code",
   "execution_count": 12,
   "id": "78aba419-1ce1-41a8-9ba4-97f1e7fda853",
   "metadata": {},
   "outputs": [],
   "source": [
    "def compute_next_q_value(old_q_value, reward, next_optimal_q_value):\n",
    "    \"\"\"\n",
    "        Q-Learning Update Equation\n",
    "    \"\"\"\n",
    "    return old_q_value + ALPHA*(reward + GAMMA*next_optimal_q_value - old_q_value)"
   ]
  },
  {
   "cell_type": "code",
   "execution_count": 13,
   "id": "e1880eb2-5e5e-4eae-b624-dc8cf173be81",
   "metadata": {},
   "outputs": [],
   "source": [
    "def reduce_epislon(epsilon, episode):\n",
    "    \"\"\"\n",
    "        A Linear function to reduce epsilon\n",
    "        BURN_IN is when we will start to reduce epsilon and\n",
    "        EPSILON_END is when we stop reducing epsilon\n",
    "        in between epsilon will be reduced linearly\n",
    "        and this way, we allow some exploration before\n",
    "        we start exploiting what we already know.\n",
    "    \"\"\"\n",
    "    if BURN_IN <= episode <= EPSILON_END:\n",
    "        epsilon -= EPSILON_REDUCE\n",
    "\n",
    "    return epsilon"
   ]
  },
  {
   "cell_type": "code",
   "execution_count": 14,
   "id": "4d70324f-ff26-4340-9381-e91232ddab29",
   "metadata": {},
   "outputs": [],
   "source": [
    "def failure(done, points, reward):\n",
    "    \"\"\"\n",
    "        This function allows us to modify the reward for the agent\n",
    "        vanilla cart pole continuously gives a reward as long as\n",
    "        the cart is moving, however we want to add something to\n",
    "        heavily punish the agent for not getting enough 'points' \n",
    "        (will be defined later). This can be modified even further\n",
    "        based on the other observations if we so choose. This is\n",
    "        just an introduction to creating or own reward system.\n",
    "    \"\"\"\n",
    "    if done and points < 150:\n",
    "        reward = -200\n",
    "        \n",
    "    return reward"
   ]
  },
  {
   "cell_type": "markdown",
   "id": "695881b6-944c-41a1-b48b-03449cb1c8cf",
   "metadata": {},
   "source": [
    "# Agent Training & Visualization"
   ]
  },
  {
   "cell_type": "code",
   "execution_count": 15,
   "id": "bb20795f-5d80-43bf-8074-7d73bec9f353",
   "metadata": {},
   "outputs": [
    {
     "data": {
      "image/png": "[encoded data removed]",
      "text/plain": [
       "<Figure size 640x480 with 1 Axes>"
      ]
     },
     "metadata": {},
     "output_type": "display_data"
    }
   ],
   "source": [
    "# Reinitialize the environment to render_mode='rgb_array' so that it's not wasting time rendering the game\n",
    "env = gym.make('CartPole-v1', render_mode='rgb_array')\n",
    "\n",
    "# For game visualization\n",
    "render_interval = 30000\n",
    "\n",
    "# For plotting purposes\n",
    "log_interval = 500 \n",
    "points_log = []\n",
    "mean_points_log = []\n",
    "episodes = []\n",
    "\n",
    "# Start training the Agent\n",
    "for episode in range(EPISODES):\n",
    "    \n",
    "    # Initialize everyting\n",
    "    initial_state = env.reset()[0]\n",
    "    discretized_state = discretize_observation(initial_state, BINS)\n",
    "    done = False\n",
    "    points = 0\n",
    "    episodes.append(episode)\n",
    "\n",
    "    # Play the game\n",
    "    while not done:\n",
    "        \n",
    "        action = epsilon_greedy_action_selection(epsilon, q_table, discretized_state)\n",
    "        next_state, reward, done, _, _ = env.step(action)\n",
    "\n",
    "        # We want to adjust our reward with our own reward function\n",
    "        reward = failure(done, points, reward)\n",
    "\n",
    "        # We need to make the next state discrete\n",
    "        next_discretized_state = discretize_observation(next_state, BINS)\n",
    "\n",
    "        # Grab the old (current) Q value\n",
    "        old_q_value = q_table[discretized_state + (action,)]\n",
    "\n",
    "        # Grab the max (optimal) Q value from the table\n",
    "        next_optimal_q_value = np.max(q_table[next_discretized_state])\n",
    "\n",
    "        # Compute the next Q value\n",
    "        next_q_value = compute_next_q_value(old_q_value, reward, next_optimal_q_value)\n",
    "\n",
    "        # Add it to the table\n",
    "        q_table[discretized_state + (action,)] = next_q_value\n",
    "\n",
    "        # Set move forward by updating the state\n",
    "        discretized_state = next_discretized_state\n",
    "        points += 1\n",
    "\n",
    "    epsilon = reduce_epislon(epsilon, episode)\n",
    "    points_log.append(points)\n",
    "    # Grabs the last 30 points in points_log and takes the average up to 2 decimal points\n",
    "    running_mean = round(np.mean(points_log[-30:]), 2)\n",
    "    mean_points_log.append(running_mean)\n",
    "\n",
    "    if episode % log_interval == 0:\n",
    "        clear_output(wait=True)\n",
    "        plt.title('Rewards and Running Mean Rewards, Winning is 200')\n",
    "        plt.scatter(episodes, points_log[:len(episodes)])\n",
    "        plt.plot(episodes, points_log[:len(episodes)])\n",
    "        plt.plot(episodes, mean_points_log[:len(episodes)], label=f'Running Mean: {running_mean}')\n",
    "        plt.legend()\n",
    "        plt.show()\n",
    "        \n",
    "env.close()"
   ]
  },
  {
   "cell_type": "code",
   "execution_count": 16,
   "id": "1e5e3fd4-36fe-4ad6-a978-cc79e51d6e1c",
   "metadata": {},
   "outputs": [
    {
     "name": "stdout",
     "output_type": "stream",
     "text": [
      "Total Rewards: 460\n"
     ]
    }
   ],
   "source": [
    "# To view the agent play the game, lets render it as human\n",
    "env = gym.make('CartPole-v1', render_mode='human')\n",
    "observation = env.reset()[0]\n",
    "rewards = 0\n",
    "\n",
    "for step in range(1000):\n",
    "    env.render()\n",
    "    discrete_state = discretize_observation(observation, BINS)\n",
    "    action = np.argmax(q_table[discrete_state])\n",
    "    observation, reward, done, _, _ = env.step(action)\n",
    "    rewards += 1\n",
    "    if done:\n",
    "        print(f\"Total Rewards: {rewards}\")\n",
    "        break\n",
    "        \n",
    "env.close()"
   ]
  },
  {
   "cell_type": "code",
   "execution_count": null,
   "id": "5a6819d1-546d-4c9b-b80c-f121646466e3",
   "metadata": {},
   "outputs": [],
   "source": []
  }
 ],
 "metadata": {
  "kernelspec": {
   "display_name": "python-venv-rl",
   "language": "python",
   "name": "rl"
  },
  "language_info": {
   "codemirror_mode": {
    "name": "ipython",
    "version": 3
   },
   "file_extension": ".py",
   "mimetype": "text/x-python",
   "name": "python",
   "nbconvert_exporter": "python",
   "pygments_lexer": "ipython3",
   "version": "3.11.2"
  }
 },
 "nbformat": 4,
 "nbformat_minor": 5
}
