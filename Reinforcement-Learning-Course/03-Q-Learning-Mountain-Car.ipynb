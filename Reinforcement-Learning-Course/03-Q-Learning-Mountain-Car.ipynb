{
 "cells": [
  {
   "cell_type": "markdown",
   "id": "60b61648-a4b6-4a72-85fd-09267f6ce010",
   "metadata": {},
   "source": [
    "# Environment Setup"
   ]
  },
  {
   "cell_type": "code",
   "execution_count": 1,
   "id": "635e9d59-7672-4ad0-a655-7024601d61e4",
   "metadata": {},
   "outputs": [],
   "source": [
    "import time\n",
    "import numpy as np\n",
    "import gymnasium as gym\n",
    "import matplotlib.pyplot as plt\n",
    "from IPython.display import clear_output\n",
    "%matplotlib inline\n",
    "\n",
    "env_name = 'MountainCar-v0'"
   ]
  },
  {
   "cell_type": "code",
   "execution_count": 2,
   "id": "60798dd1-f813-4e8c-8688-34d9bf28c04c",
   "metadata": {},
   "outputs": [],
   "source": [
    "# env = gym.make(env_name, render_mode='human')\n",
    "# env.reset()\n",
    "\n",
    "# for step in range(250):\n",
    "\n",
    "#     env.render()\n",
    "    \n",
    "#     action = env.action_space.sample()\n",
    "#     observation, reward, done, trunc, info = env.step(action)\n",
    "\n",
    "#     time.sleep(0.001)\n",
    "    \n",
    "#     if done:\n",
    "#         env.reset()\n",
    "#         break\n",
    "\n",
    "# env.close()"
   ]
  },
  {
   "cell_type": "markdown",
   "id": "133c06f6-9d97-4bd9-8cb4-4d6ac74b94bc",
   "metadata": {},
   "source": [
    "# Hyperparameter Initialization"
   ]
  },
  {
   "cell_type": "code",
   "execution_count": 3,
   "id": "e963c352-ad3f-4569-a104-6c47f8e097dd",
   "metadata": {},
   "outputs": [],
   "source": [
    "def create_observation_bins(num_bins_per_observation=10):\n",
    "    bins_car_position = np.linspace(-1.2, 0.6, num_bins_per_observation)\n",
    "    bins_car_velocity = np.linspace(-0.07, 0.07, num_bins_per_observation)\n",
    "\n",
    "    bins = np.array([bins_car_position, bins_car_velocity])\n",
    "    \n",
    "    return bins"
   ]
  },
  {
   "cell_type": "code",
   "execution_count": 4,
   "id": "41e8dbdd-4d6a-4338-a08a-369132ac3efa",
   "metadata": {},
   "outputs": [],
   "source": [
    "NUM_BINS = 40\n",
    "BINS = create_observation_bins(NUM_BINS)"
   ]
  },
  {
   "cell_type": "code",
   "execution_count": 5,
   "id": "836ae709-bb77-4ac3-8145-e60cf59b2154",
   "metadata": {},
   "outputs": [],
   "source": [
    "def discretize_observation(observations, bins):\n",
    "\n",
    "    binned_observations = []\n",
    "\n",
    "    for i, observation in enumerate(observations):\n",
    "        # observations is in [cart_position, cart_velocity, pole_angle, pole_angular_velocity]\n",
    "        # our bins were organized in the same way, thus observation[0] corresponds to bins[0]\n",
    "        discretized_observation = np.digitize(observation, bins[i])\n",
    "\n",
    "        binned_observations.append(discretized_observation)\n",
    "\n",
    "    return tuple(binned_observations)"
   ]
  },
  {
   "cell_type": "code",
   "execution_count": 6,
   "id": "b96419ec-2172-4769-9fbc-6f67b88fb766",
   "metadata": {},
   "outputs": [
    {
     "name": "stdout",
     "output_type": "stream",
     "text": [
      "Raw (continuous) observation: [-0.4310665  0.       ]\n",
      "Mapped (discrete) observation: (17, 20)\n"
     ]
    }
   ],
   "source": [
    "env = gym.make(env_name, render_mode='rgb_array')\n",
    "observation, _ = env.reset()\n",
    "print(f'Raw (continuous) observation: {observation}')\n",
    "mapped_observation = discretize_observation(observation, BINS)\n",
    "print(f'Mapped (discrete) observation: {mapped_observation}')"
   ]
  },
  {
   "cell_type": "code",
   "execution_count": 7,
   "id": "00687c7e-9dae-45e3-85c7-58ff09e1aaa6",
   "metadata": {},
   "outputs": [
    {
     "name": "stdout",
     "output_type": "stream",
     "text": [
      "(40, 40, 3)\n"
     ]
    }
   ],
   "source": [
    "q_table_shape = (NUM_BINS, NUM_BINS, env.action_space.n)\n",
    "q_table = np.zeros(q_table_shape)\n",
    "print(q_table.shape)"
   ]
  },
  {
   "cell_type": "code",
   "execution_count": 8,
   "id": "4fc03468-8ab6-4a0b-9ea0-2a1dcc950358",
   "metadata": {},
   "outputs": [],
   "source": [
    "EPISODES = 20000 \n",
    "ALPHA = 0.8\n",
    "GAMMA = 0.95"
   ]
  },
  {
   "cell_type": "code",
   "execution_count": 9,
   "id": "e8c92539-ef54-4461-9359-f7d2dbc16fe1",
   "metadata": {},
   "outputs": [],
   "source": [
    "epsilon = 1.0\n",
    "\n",
    "# To try a linear reduction based on episodes\n",
    "BURN_IN = 1\n",
    "EPSILON_END = 10000\n",
    "EPSILON_REDUCE = 0.0001\n",
    "\n",
    "# To try an exponential reduction\n",
    "MAX_EPSILON = 1.0\n",
    "MIN_EPSILON = 0.01\n",
    "DECAY_RATE = 0.01"
   ]
  },
  {
   "cell_type": "markdown",
   "id": "b71dfdcf-7bb9-45cf-b9af-6b1e48a7a360",
   "metadata": {},
   "source": [
    "# Update Functions"
   ]
  },
  {
   "cell_type": "code",
   "execution_count": 10,
   "id": "df887efc-0e26-453f-a0cf-3cafcd18fc8c",
   "metadata": {},
   "outputs": [],
   "source": [
    "def epsilon_greedy_action_selection(epsilon, q_table, discrete_state):\n",
    "    \"\"\"\n",
    "        Explaining Epsilon-Greedy Logic: \n",
    "        Since epsilon starts at 1.0, and our random number generator doesn't include 1.0 and\n",
    "        we're using an exponential decay function for our epsilon, for the beginning we will \n",
    "        be mostly exploring a lot (AKA choosing the random action). However, as epsilon gets\n",
    "        smaller over time, we will be exploiting what we've learned more and more, and exploring\n",
    "        only very little.\n",
    "    \"\"\"\n",
    "\n",
    "    random_number = np.random.random()\n",
    "\n",
    "    # EXPLOITATION (choose the action that maximizes Q)\n",
    "    if random_number > epsilon:\n",
    "\n",
    "        # For the given (discrete) state, grab that state,\n",
    "        # minor change from the previous example \n",
    "        # where we wanted the whole row, and we still\n",
    "        # grab the index of the highest value\n",
    "        action = np.argmax(q_table[discrete_state])\n",
    "        \n",
    "    # EXPLORATION (choose a random action)\n",
    "    else:\n",
    "        action = env.action_space.sample()\n",
    "\n",
    "    return action"
   ]
  },
  {
   "cell_type": "code",
   "execution_count": 11,
   "id": "94bea290-27c2-4f53-a598-bb8688e02001",
   "metadata": {},
   "outputs": [],
   "source": [
    "def compute_next_q_value(old_q_value, reward, next_optimal_q_value):\n",
    "    \"\"\"\n",
    "        Q-Learning Update Equation\n",
    "    \"\"\"\n",
    "    return old_q_value + ALPHA*(reward + GAMMA*next_optimal_q_value - old_q_value)"
   ]
  },
  {
   "cell_type": "code",
   "execution_count": 12,
   "id": "48c95f28-f325-45d4-815d-5b153fd38762",
   "metadata": {},
   "outputs": [],
   "source": [
    "def reduce_epislon(epsilon, episode, mode='linear'):\n",
    "    \"\"\"\n",
    "        A function to reduce epsilon\n",
    "        With the option to use either:\n",
    "        A linear function with a burn-in factor\n",
    "        or an exponential function\n",
    "    \"\"\"\n",
    "    if mode == 'linear':\n",
    "        if BURN_IN <= episode <= EPSILON_END:\n",
    "            epsilon -= EPSILON_REDUCE\n",
    "    if mode == 'exponential':\n",
    "        epsilon = MIN_EPSILON + (MAX_EPSILON - MIN_EPSILON)*np.exp(-DECAY_RATE*episode)\n",
    "\n",
    "    return epsilon"
   ]
  },
  {
   "cell_type": "code",
   "execution_count": 13,
   "id": "b19b7920-894d-4577-bb08-4cf523aaaab2",
   "metadata": {},
   "outputs": [],
   "source": [
    "def reward_modifier(reward, truncated, position, episode):\n",
    "    if not truncated and (position < -0.4 or position > -0.2) and episode < 5000:\n",
    "        reward += 1\n",
    "    return reward"
   ]
  },
  {
   "cell_type": "markdown",
   "id": "d0574646-f8b4-4100-8b34-81d6f231d32a",
   "metadata": {},
   "source": [
    "# Agent Training & Visualization"
   ]
  },
  {
   "cell_type": "code",
   "execution_count": 15,
   "id": "ac303900-824e-4746-92b6-3dcfd7780704",
   "metadata": {},
   "outputs": [
    {
     "data": {
      "image/png": "[encoded data removed]",
      "text/plain": [
       "<Figure size 640x480 with 1 Axes>"
      ]
     },
     "metadata": {},
     "output_type": "display_data"
    }
   ],
   "source": [
    "# Reinitialize the environment to render_mode='rgb_array' so that it's not wasting time rendering the game\n",
    "env = gym.make(env_name, render_mode='rgb_array')\n",
    "\n",
    "# For game visualization\n",
    "# render_interval = 30000\n",
    "\n",
    "# For plotting purposes\n",
    "log_interval = 500 \n",
    "points_log = []\n",
    "mean_points_log = []\n",
    "episodes = []\n",
    "\n",
    "# Start training the Agent\n",
    "for episode in range(EPISODES):\n",
    "    # print(f'{episode} / {EPISODES}')\n",
    "    \n",
    "    # Initialize everyting\n",
    "    initial_state = env.reset()[0]\n",
    "    discretized_state = discretize_observation(initial_state, BINS)\n",
    "    done = False\n",
    "    truncated = False\n",
    "    points = 0\n",
    "    episodes.append(episode)\n",
    "    # start_time = time.time()\n",
    "    # time_step = 0\n",
    "    # Play the game\n",
    "    while not done and not truncated:\n",
    "\n",
    "        # print(f'Time-Step: {time_step}')\n",
    "        action = epsilon_greedy_action_selection(epsilon, q_table, discretized_state)\n",
    "        next_state, reward, done, truncated, _ = env.step(action)\n",
    "\n",
    "        # Let's just try modifying the reward a tiny bit \n",
    "        # reward = reward_modifier(reward, truncated, next_state[0], episode)\n",
    "        \n",
    "        # We need to make the next state discrete\n",
    "        next_discretized_state = discretize_observation(next_state, BINS)\n",
    "\n",
    "        # Grab the old (current) Q value\n",
    "        old_q_value = q_table[discretized_state + (action,)]\n",
    "\n",
    "        # Grab the max (optimal) Q value from the table\n",
    "        next_optimal_q_value = np.max(q_table[next_discretized_state])\n",
    "\n",
    "        # Compute the next Q value\n",
    "        next_q_value = compute_next_q_value(old_q_value, reward, next_optimal_q_value)\n",
    "\n",
    "        # Add it to the table\n",
    "        q_table[discretized_state + (action,)] = next_q_value\n",
    "\n",
    "        # Set move forward by updating the state\n",
    "        discretized_state = next_discretized_state\n",
    "        points -= 1\n",
    "        # time_step += 1\n",
    "\n",
    "    # print(f'Time taken: {(time.time() - start_time)}')\n",
    "    epsilon = reduce_epislon(epsilon, episode, mode='linear')\n",
    "    points_log.append(points)\n",
    "    # Grabs the last 30 points in points_log and takes the average up to 2 decimal points\n",
    "    running_mean = round(np.mean(points_log[-30:]), 2)\n",
    "    mean_points_log.append(running_mean)\n",
    "\n",
    "    if episode % log_interval == 0:\n",
    "        clear_output(wait=True)\n",
    "        plt.title('Rewards and Running Mean Rewards, Winning is > -200')\n",
    "        plt.scatter(episodes, points_log[:len(episodes)], s=10, c='#47A3DC')\n",
    "        plt.plot(episodes, points_log[:len(episodes)])\n",
    "        plt.plot(episodes, mean_points_log[:len(episodes)], label=f'Running Mean: {running_mean}')\n",
    "        plt.legend()\n",
    "        plt.show()\n",
    "    \n",
    "env.close()"
   ]
  },
  {
   "cell_type": "code",
   "execution_count": 16,
   "id": "90616ce9-5e47-4b4a-ada0-275cbdc86c51",
   "metadata": {},
   "outputs": [
    {
     "name": "stdout",
     "output_type": "stream",
     "text": [
      "Total Rewards: -137\n"
     ]
    }
   ],
   "source": [
    "env = gym.make(env_name, render_mode='human')\n",
    "observation = env.reset()[0]\n",
    "rewards = 0\n",
    "\n",
    "for step in range(1000):\n",
    "    env.render()\n",
    "    discrete_state = discretize_observation(observation, BINS)\n",
    "    action = np.argmax(q_table[discrete_state])\n",
    "    observation, reward, done, truncated, _ = env.step(action)\n",
    "    rewards -= 1\n",
    "    if done or truncated:\n",
    "        print(f\"Total Rewards: {rewards}\")\n",
    "        break\n",
    "        \n",
    "env.close()"
   ]
  },
  {
   "cell_type": "markdown",
   "id": "cb9924f4-a26e-473d-82a3-1c36a4509758",
   "metadata": {},
   "source": [
    "# Best Results:\n",
    "Bins: 40 <br>\n",
    "Epsilon Reduce: 'linear' <br>\n",
    "Reward Modifier: False <br>\n",
    "Maximum Q Value Selection Reward: -142 <br><br>\n",
    "\n",
    "# Other Results:\n",
    "Bins: 40 <br>\n",
    "Epsilon Reduce: 'exponential' <br>\n",
    "Reward Modifier: False <br>\n",
    "Maximum Q Value Selection Reward: -200 <br><br>\n",
    "\n",
    "Bins: 40 <br>\n",
    "Epsilon Reduce: 'linear' <br>\n",
    "Reward Modifier: True <br>\n",
    "Maximum Q Value Selection Reward: -191 <br><br>\n"
   ]
  },
  {
   "cell_type": "code",
   "execution_count": null,
   "id": "f39e6d1c-f450-41cb-bc8c-591e19d0e8ba",
   "metadata": {},
   "outputs": [],
   "source": []
  }
 ],
 "metadata": {
  "kernelspec": {
   "display_name": "Python (rl)",
   "language": "python",
   "name": "rl"
  },
  "language_info": {
   "codemirror_mode": {
    "name": "ipython",
    "version": 3
   },
   "file_extension": ".py",
   "mimetype": "text/x-python",
   "name": "python",
   "nbconvert_exporter": "python",
   "pygments_lexer": "ipython3",
   "version": "3.11.2"
  }
 },
 "nbformat": 4,
 "nbformat_minor": 5
}
