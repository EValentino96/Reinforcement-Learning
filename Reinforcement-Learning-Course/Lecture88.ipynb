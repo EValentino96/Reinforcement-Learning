{
 "cells": [
  {
   "cell_type": "code",
   "execution_count": 1,
   "id": "afa9120d-85a4-4206-95f2-5b0a60a4fbf7",
   "metadata": {},
   "outputs": [],
   "source": [
    "def auo_play_env(env):\n",
    "    for frame in range(1000):\n",
    "        # Printing out what frame we're looking at\n",
    "        print(f\"Frame: {frame}/1000\")\n",
    "        \n",
    "        # Clear the current output cell\n",
    "        clear_output(wait=True)\n",
    "        \n",
    "        # Render the current state\n",
    "        img = env.render()\n",
    "        \n",
    "        # Display the image using matplotlib\n",
    "        plt.imshow(img)\n",
    "        display(plt.gcf())  # Use display to show the plot\n",
    "        \n",
    "        # Wait briefly to simulate a frame rate (adjust as needed)\n",
    "        time.sleep(1/30)\n",
    "        \n",
    "        # Perform an action (replace with your RL agent's action)\n",
    "        action = env.action_space.sample()\n",
    "        env.step(action)\n",
    "    \n",
    "    env.close()"
   ]
  },
  {
   "cell_type": "code",
   "execution_count": 2,
   "id": "09d9bde8-d26d-49bb-975d-87f57289faa9",
   "metadata": {},
   "outputs": [
    {
     "name": "stderr",
     "output_type": "stream",
     "text": [
      "A.L.E: Arcade Learning Environment (version 0.8.1+53f58b7)\n",
      "[Powered by Stella]\n"
     ]
    }
   ],
   "source": [
    "import gymnasium as gym\n",
    "import matplotlib.pyplot as plt\n",
    "from IPython.display import clear_output, display\n",
    "import time\n",
    "\n",
    "env = gym.make('Breakout-v4', render_mode='rgb_array')\n",
    "# env.reset()"
   ]
  },
  {
   "cell_type": "code",
   "execution_count": 7,
   "id": "3544c0c9-56db-4970-ad30-4e262a439fff",
   "metadata": {},
   "outputs": [
    {
     "ename": "TypeError",
     "evalue": "AtariEnv.render() got an unexpected keyword argument 'mode'",
     "output_type": "error",
     "traceback": [
      "\u001b[0;31m---------------------------------------------------------------------------\u001b[0m",
      "\u001b[0;31mTypeError\u001b[0m                                 Traceback (most recent call last)",
      "Cell \u001b[0;32mIn[7], line 2\u001b[0m\n\u001b[1;32m      1\u001b[0m env\u001b[38;5;241m.\u001b[39mreset()\n\u001b[0;32m----> 2\u001b[0m array \u001b[38;5;241m=\u001b[39m \u001b[43menv\u001b[49m\u001b[38;5;241;43m.\u001b[39;49m\u001b[43mrender\u001b[49m\u001b[43m(\u001b[49m\u001b[43mmode\u001b[49m\u001b[38;5;241;43m=\u001b[39;49m\u001b[38;5;124;43m'\u001b[39;49m\u001b[38;5;124;43mhuman\u001b[39;49m\u001b[38;5;124;43m'\u001b[39;49m\u001b[43m)\u001b[49m\n\u001b[1;32m      3\u001b[0m env\u001b[38;5;241m.\u001b[39mclose()\n\u001b[1;32m      4\u001b[0m array\u001b[38;5;241m.\u001b[39mshape\n",
      "File \u001b[0;32m~/rl/lib/python3.11/site-packages/gymnasium/wrappers/order_enforcing.py:70\u001b[0m, in \u001b[0;36mOrderEnforcing.render\u001b[0;34m(self, *args, **kwargs)\u001b[0m\n\u001b[1;32m     65\u001b[0m \u001b[38;5;28;01mif\u001b[39;00m \u001b[38;5;129;01mnot\u001b[39;00m \u001b[38;5;28mself\u001b[39m\u001b[38;5;241m.\u001b[39m_disable_render_order_enforcing \u001b[38;5;129;01mand\u001b[39;00m \u001b[38;5;129;01mnot\u001b[39;00m \u001b[38;5;28mself\u001b[39m\u001b[38;5;241m.\u001b[39m_has_reset:\n\u001b[1;32m     66\u001b[0m     \u001b[38;5;28;01mraise\u001b[39;00m ResetNeeded(\n\u001b[1;32m     67\u001b[0m         \u001b[38;5;124m\"\u001b[39m\u001b[38;5;124mCannot call `env.render()` before calling `env.reset()`, if this is a intended action, \u001b[39m\u001b[38;5;124m\"\u001b[39m\n\u001b[1;32m     68\u001b[0m         \u001b[38;5;124m\"\u001b[39m\u001b[38;5;124mset `disable_render_order_enforcing=True` on the OrderEnforcer wrapper.\u001b[39m\u001b[38;5;124m\"\u001b[39m\n\u001b[1;32m     69\u001b[0m     )\n\u001b[0;32m---> 70\u001b[0m \u001b[38;5;28;01mreturn\u001b[39;00m \u001b[38;5;28;43mself\u001b[39;49m\u001b[38;5;241;43m.\u001b[39;49m\u001b[43menv\u001b[49m\u001b[38;5;241;43m.\u001b[39;49m\u001b[43mrender\u001b[49m\u001b[43m(\u001b[49m\u001b[38;5;241;43m*\u001b[39;49m\u001b[43margs\u001b[49m\u001b[43m,\u001b[49m\u001b[43m \u001b[49m\u001b[38;5;241;43m*\u001b[39;49m\u001b[38;5;241;43m*\u001b[39;49m\u001b[43mkwargs\u001b[49m\u001b[43m)\u001b[49m\n",
      "File \u001b[0;32m~/rl/lib/python3.11/site-packages/gymnasium/wrappers/env_checker.py:67\u001b[0m, in \u001b[0;36mPassiveEnvChecker.render\u001b[0;34m(self, *args, **kwargs)\u001b[0m\n\u001b[1;32m     65\u001b[0m     \u001b[38;5;28;01mreturn\u001b[39;00m env_render_passive_checker(\u001b[38;5;28mself\u001b[39m\u001b[38;5;241m.\u001b[39menv, \u001b[38;5;241m*\u001b[39margs, \u001b[38;5;241m*\u001b[39m\u001b[38;5;241m*\u001b[39mkwargs)\n\u001b[1;32m     66\u001b[0m \u001b[38;5;28;01melse\u001b[39;00m:\n\u001b[0;32m---> 67\u001b[0m     \u001b[38;5;28;01mreturn\u001b[39;00m \u001b[38;5;28;43mself\u001b[39;49m\u001b[38;5;241;43m.\u001b[39;49m\u001b[43menv\u001b[49m\u001b[38;5;241;43m.\u001b[39;49m\u001b[43mrender\u001b[49m\u001b[43m(\u001b[49m\u001b[38;5;241;43m*\u001b[39;49m\u001b[43margs\u001b[49m\u001b[43m,\u001b[49m\u001b[43m \u001b[49m\u001b[38;5;241;43m*\u001b[39;49m\u001b[38;5;241;43m*\u001b[39;49m\u001b[43mkwargs\u001b[49m\u001b[43m)\u001b[49m\n",
      "\u001b[0;31mTypeError\u001b[0m: AtariEnv.render() got an unexpected keyword argument 'mode'"
     ]
    }
   ],
   "source": [
    "env.reset()\n",
    "array = env.render()\n",
    "env.close()\n",
    "array.shape"
   ]
  },
  {
   "cell_type": "code",
   "execution_count": 4,
   "id": "9220f607-9007-49c2-9c27-5840c16d4417",
   "metadata": {},
   "outputs": [],
   "source": [
    "# plt.imshow(array)"
   ]
  },
  {
   "cell_type": "code",
   "execution_count": 5,
   "id": "ac9daf8b-a279-4411-ba5a-57eaf33fafaa",
   "metadata": {},
   "outputs": [
    {
     "name": "stdout",
     "output_type": "stream",
     "text": [
      "<class 'numpy.ndarray'>\n",
      "<class 'gymnasium.wrappers.order_enforcing.OrderEnforcing'>\n",
      "Discrete(4)\n"
     ]
    }
   ],
   "source": [
    "print(type(array))\n",
    "print(type(env))\n",
    "print(env.action_space)"
   ]
  },
  {
   "cell_type": "code",
   "execution_count": 6,
   "id": "e6ca0d36-b417-4e7b-8ddc-63bf3df7620b",
   "metadata": {},
   "outputs": [],
   "source": [
    "env.reset();"
   ]
  },
  {
   "cell_type": "code",
   "execution_count": 13,
   "id": "8c67e7d1-27b2-43e7-b00d-6438bba097b2",
   "metadata": {},
   "outputs": [
    {
     "data": {
      "image/png": "[encoded data removed]",
      "text/plain": [
       "<Figure size 640x480 with 1 Axes>"
      ]
     },
     "metadata": {},
     "output_type": "display_data"
    },
    {
     "name": "stdout",
     "output_type": "stream",
     "text": [
      "Reward: 0.0\n",
      "Done: True\n",
      "Info: {'lives': 0, 'episode_frame_number': 514, 'frame_number': 651}\n"
     ]
    },
    {
     "data": {
      "image/png": "[encoded data removed]",
      "text/plain": [
       "<Figure size 640x480 with 1 Axes>"
      ]
     },
     "metadata": {},
     "output_type": "display_data"
    }
   ],
   "source": [
    "# Go for N many frames\n",
    "total_steps = 200\n",
    "\n",
    "for step in range(total_steps):\n",
    "\n",
    "    # Generate environment\n",
    "    env.render()\n",
    "\n",
    "    # Grab random action!\n",
    "    random_action = env.action_space.sample()\n",
    "\n",
    "    # Actually use the random action on the environment\n",
    "    # Keep in mind since we're grabbing random action,\n",
    "    # our first action might not start the game! Since,\n",
    "    # you need to press the \"spacebar\" to start the game.\n",
    "    observation, reward, done, boo, info = env.step(random_action)\n",
    "\n",
    "    clear_output(wait=True)\n",
    "    plt.imshow(observation)\n",
    "    display(plt.gcf())\n",
    "    \n",
    "    # Show some of our information\n",
    "    print(f'Reward: {reward}')\n",
    "    print(f'Done: {done}')\n",
    "    print(f'Info: {info}')\n",
    "\n",
    "    if done:\n",
    "        break\n",
    "    \n",
    "    time.sleep(0.05)\n",
    "\n",
    "# Close the environment once we're done interacting with it.\n",
    "env.close()"
   ]
  },
  {
   "cell_type": "code",
   "execution_count": null,
   "id": "67e9dbdc-d911-44a9-8215-da62098e20ba",
   "metadata": {},
   "outputs": [],
   "source": []
  }
 ],
 "metadata": {
  "kernelspec": {
   "display_name": "Python (rl)",
   "language": "python",
   "name": "rl"
  },
  "language_info": {
   "codemirror_mode": {
    "name": "ipython",
    "version": 3
   },
   "file_extension": ".py",
   "mimetype": "text/x-python",
   "name": "python",
   "nbconvert_exporter": "python",
   "pygments_lexer": "ipython3",
   "version": "3.11.2"
  }
 },
 "nbformat": 4,
 "nbformat_minor": 5
}
